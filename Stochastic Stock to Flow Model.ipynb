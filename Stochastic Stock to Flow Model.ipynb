{
 "cells": [
  {
   "cell_type": "code",
   "execution_count": 249,
   "metadata": {},
   "outputs": [
    {
     "data": {
      "text/plain": [
       "'1.1.3'"
      ]
     },
     "execution_count": 249,
     "metadata": {},
     "output_type": "execute_result"
    }
   ],
   "source": [
    "# Import Modules\n",
    "import numpy as np\n",
    "import pandas as pd\n",
    "from pandas import Series, DataFrame\n",
    "import matplotlib.pyplot as plt\n",
    "%matplotlib inline  \n",
    "from sklearn.linear_model import LinearRegression\n",
    "from sklearn.linear_model import Ridge\n",
    "from sklearn.linear_model import RidgeCV\n",
    "from sklearn.model_selection import GridSearchCV\n",
    "from sklearn.model_selection import KFold\n",
    "from sklearn.model_selection import cross_val_score\n",
    "from sklearn.metrics import mean_squared_error\n",
    "from sklearn.model_selection import train_test_split\n",
    "from sklearn.preprocessing import PolynomialFeatures\n",
    "from sklearn import linear_model\n",
    "import urllib.request\n",
    "import os\n",
    "import seaborn as sns\n",
    "#from regressors import stats \n",
    "from statsmodels.stats.outliers_influence import variance_inflation_factor\n",
    "import urllib.request\n",
    "import os\n",
    "import sys\n",
    "import logging\n",
    "import traceback\n",
    "import argparse\n",
    "import datetime\n",
    "import json\n",
    "import coinmetrics\n",
    "from datetime import timedelta, date\n",
    "from pytrends.request import TrendReq\n",
    "import time\n",
    "pd.__version__\n",
    "\n"
   ]
  },
  {
   "cell_type": "code",
   "execution_count": 250,
   "metadata": {},
   "outputs": [
    {
     "data": {
      "text/html": [
       "<div>\n",
       "<style scoped>\n",
       "    .dataframe tbody tr th:only-of-type {\n",
       "        vertical-align: middle;\n",
       "    }\n",
       "\n",
       "    .dataframe tbody tr th {\n",
       "        vertical-align: top;\n",
       "    }\n",
       "\n",
       "    .dataframe thead th {\n",
       "        text-align: right;\n",
       "    }\n",
       "</style>\n",
       "<table border=\"1\" class=\"dataframe\">\n",
       "  <thead>\n",
       "    <tr style=\"text-align: right;\">\n",
       "      <th></th>\n",
       "      <th>bitcoin</th>\n",
       "    </tr>\n",
       "    <tr>\n",
       "      <th>date</th>\n",
       "      <th></th>\n",
       "    </tr>\n",
       "  </thead>\n",
       "  <tbody>\n",
       "    <tr>\n",
       "      <th>2020-11-22</th>\n",
       "      <td>24.285714</td>\n",
       "    </tr>\n",
       "    <tr>\n",
       "      <th>2020-11-29</th>\n",
       "      <td>25.571429</td>\n",
       "    </tr>\n",
       "    <tr>\n",
       "      <th>2020-12-06</th>\n",
       "      <td>21.571429</td>\n",
       "    </tr>\n",
       "    <tr>\n",
       "      <th>2020-12-13</th>\n",
       "      <td>17.142857</td>\n",
       "    </tr>\n",
       "    <tr>\n",
       "      <th>2020-12-20</th>\n",
       "      <td>30.000000</td>\n",
       "    </tr>\n",
       "    <tr>\n",
       "      <th>2020-12-27</th>\n",
       "      <td>32.000000</td>\n",
       "    </tr>\n",
       "    <tr>\n",
       "      <th>2021-01-03</th>\n",
       "      <td>47.571429</td>\n",
       "    </tr>\n",
       "    <tr>\n",
       "      <th>2021-01-10</th>\n",
       "      <td>69.285714</td>\n",
       "    </tr>\n",
       "    <tr>\n",
       "      <th>2021-01-17</th>\n",
       "      <td>64.714286</td>\n",
       "    </tr>\n",
       "    <tr>\n",
       "      <th>2021-01-24</th>\n",
       "      <td>43.142857</td>\n",
       "    </tr>\n",
       "  </tbody>\n",
       "</table>\n",
       "</div>"
      ],
      "text/plain": [
       "              bitcoin\n",
       "date                 \n",
       "2020-11-22  24.285714\n",
       "2020-11-29  25.571429\n",
       "2020-12-06  21.571429\n",
       "2020-12-13  17.142857\n",
       "2020-12-20  30.000000\n",
       "2020-12-27  32.000000\n",
       "2021-01-03  47.571429\n",
       "2021-01-10  69.285714\n",
       "2021-01-17  64.714286\n",
       "2021-01-24  43.142857"
      ]
     },
     "execution_count": 250,
     "metadata": {},
     "output_type": "execute_result"
    }
   ],
   "source": [
    "##Google Trends Data for the search term \"bitcoin\"\n",
    "# If you would like to add additional queries, simply add them to the dataframe\n",
    "# You must manually adjust the date in the line timeframe ='___',\n",
    "startTime = time.time()\n",
    "pytrend = TrendReq(hl='en-GB', tz=360)\n",
    "colnames = [\"keywords\"]\n",
    "df = pd.DataFrame()\n",
    "df['keywords'] = ['bitcoin']\n",
    "df2 = df[\"keywords\"].values.tolist()\n",
    "\n",
    "dataset = []\n",
    "\n",
    "#first halving period, do not edit\n",
    "for x in range(0,len(df2)):\n",
    "     keywords = [df2[x]]\n",
    "     pytrend.build_payload(\n",
    "     kw_list=keywords,\n",
    "     cat=0,\n",
    "     timeframe='2010-11-6 2012-11-28',\n",
    "     geo='')\n",
    "     data = pytrend.interest_over_time()\n",
    "     if not data.empty:\n",
    "          data = data.drop(labels=['isPartial'],axis='columns')\n",
    "          dataset.append(data)\n",
    "\n",
    "result = pd.concat(dataset, axis=1)\n",
    "result.to_csv('h1.csv')\n",
    "\n",
    "#second halving period, do not edit\n",
    "for x in range(0,len(df2)):\n",
    "     keywords = [df2[x]]\n",
    "     pytrend.build_payload(\n",
    "     kw_list=keywords,\n",
    "     cat=0,\n",
    "     timeframe='2012-11-28 2016-7-9',\n",
    "     geo='')\n",
    "     data = pytrend.interest_over_time()\n",
    "     if not data.empty:\n",
    "          data = data.drop(labels=['isPartial'],axis='columns')\n",
    "          dataset.append(data)\n",
    "\n",
    "result = pd.concat(dataset, axis=1)\n",
    "result.to_csv('h2.csv')\n",
    "\n",
    "#third halving period, do not edit\n",
    "for x in range(0,len(df2)):\n",
    "     keywords = [df2[x]]\n",
    "     pytrend.build_payload(\n",
    "     kw_list=keywords,\n",
    "     cat=0,\n",
    "     timeframe='2016-7-9 2020-5-11',\n",
    "     geo='')\n",
    "     data = pytrend.interest_over_time()\n",
    "     if not data.empty:\n",
    "          data = data.drop(labels=['isPartial'],axis='columns')\n",
    "          dataset.append(data)\n",
    "\n",
    "result = pd.concat(dataset, axis=1)\n",
    "result.to_csv('h3.csv')\n",
    "\n",
    "#current period, EDIT SECOND DATE TO REFLECT CURRENT DATE\n",
    "for x in range(0,len(df2)):\n",
    "    keywords = [df2[x]]\n",
    "    pytrend.build_payload(\n",
    "    kw_list=keywords,\n",
    "    cat=0,\n",
    "    timeframe='2020-5-11 2021-01-24',\n",
    "    geo='')\n",
    "    data = pytrend.interest_over_time()\n",
    "    if not data.empty:\n",
    "        data = data.drop(labels=['isPartial'],axis='columns')\n",
    "        inbetween = pd.DataFrame(data)\n",
    "        inbetween = inbetween.resample('W').mean()\n",
    "        dataset.append(inbetween)\n",
    "\n",
    "result = pd.concat(dataset)\n",
    "result.to_csv('h4.csv')\n",
    "result.tail(10)"
   ]
  },
  {
   "cell_type": "code",
   "execution_count": 251,
   "metadata": {},
   "outputs": [
    {
     "data": {
      "text/html": [
       "<div>\n",
       "<style scoped>\n",
       "    .dataframe tbody tr th:only-of-type {\n",
       "        vertical-align: middle;\n",
       "    }\n",
       "\n",
       "    .dataframe tbody tr th {\n",
       "        vertical-align: top;\n",
       "    }\n",
       "\n",
       "    .dataframe thead th {\n",
       "        text-align: right;\n",
       "    }\n",
       "</style>\n",
       "<table border=\"1\" class=\"dataframe\">\n",
       "  <thead>\n",
       "    <tr style=\"text-align: right;\">\n",
       "      <th></th>\n",
       "      <th>SplyCur</th>\n",
       "      <th>IssContNtv</th>\n",
       "      <th>CapMrktCurUSD</th>\n",
       "      <th>PriceUSD</th>\n",
       "      <th>DiffMean</th>\n",
       "    </tr>\n",
       "  </thead>\n",
       "  <tbody>\n",
       "    <tr>\n",
       "      <th>2021-01-15T00:00:00.000Z</th>\n",
       "      <td>1.860139e+07</td>\n",
       "      <td>968.75</td>\n",
       "      <td>6.828629e+11</td>\n",
       "      <td>36710.317425</td>\n",
       "      <td>2.060742e+13</td>\n",
       "    </tr>\n",
       "    <tr>\n",
       "      <th>2021-01-16T00:00:00.000Z</th>\n",
       "      <td>1.860231e+07</td>\n",
       "      <td>918.75</td>\n",
       "      <td>6.729806e+11</td>\n",
       "      <td>36177.261097</td>\n",
       "      <td>2.060742e+13</td>\n",
       "    </tr>\n",
       "    <tr>\n",
       "      <th>2021-01-17T00:00:00.000Z</th>\n",
       "      <td>1.860314e+07</td>\n",
       "      <td>831.25</td>\n",
       "      <td>6.710141e+11</td>\n",
       "      <td>36069.939467</td>\n",
       "      <td>2.060742e+13</td>\n",
       "    </tr>\n",
       "    <tr>\n",
       "      <th>2021-01-18T00:00:00.000Z</th>\n",
       "      <td>1.860405e+07</td>\n",
       "      <td>906.25</td>\n",
       "      <td>6.808020e+11</td>\n",
       "      <td>36594.296402</td>\n",
       "      <td>2.060742e+13</td>\n",
       "    </tr>\n",
       "    <tr>\n",
       "      <th>2021-01-19T00:00:00.000Z</th>\n",
       "      <td>1.860498e+07</td>\n",
       "      <td>931.25</td>\n",
       "      <td>6.744332e+11</td>\n",
       "      <td>36250.146189</td>\n",
       "      <td>2.060742e+13</td>\n",
       "    </tr>\n",
       "    <tr>\n",
       "      <th>2021-01-20T00:00:00.000Z</th>\n",
       "      <td>1.860586e+07</td>\n",
       "      <td>881.25</td>\n",
       "      <td>6.607960e+11</td>\n",
       "      <td>35515.480013</td>\n",
       "      <td>2.060742e+13</td>\n",
       "    </tr>\n",
       "    <tr>\n",
       "      <th>2021-01-21T00:00:00.000Z</th>\n",
       "      <td>1.860667e+07</td>\n",
       "      <td>806.25</td>\n",
       "      <td>5.772337e+11</td>\n",
       "      <td>31022.951028</td>\n",
       "      <td>2.060742e+13</td>\n",
       "    </tr>\n",
       "    <tr>\n",
       "      <th>2021-01-22T00:00:00.000Z</th>\n",
       "      <td>1.860755e+07</td>\n",
       "      <td>881.25</td>\n",
       "      <td>6.137966e+11</td>\n",
       "      <td>32986.435757</td>\n",
       "      <td>2.060742e+13</td>\n",
       "    </tr>\n",
       "    <tr>\n",
       "      <th>2021-01-23T00:00:00.000Z</th>\n",
       "      <td>1.860852e+07</td>\n",
       "      <td>975.00</td>\n",
       "      <td>5.961478e+11</td>\n",
       "      <td>32036.282272</td>\n",
       "      <td>2.074318e+13</td>\n",
       "    </tr>\n",
       "    <tr>\n",
       "      <th>2021-01-24T00:00:00.000Z</th>\n",
       "      <td>1.860939e+07</td>\n",
       "      <td>868.75</td>\n",
       "      <td>5.995221e+11</td>\n",
       "      <td>32216.104290</td>\n",
       "      <td>2.082353e+13</td>\n",
       "    </tr>\n",
       "  </tbody>\n",
       "</table>\n",
       "</div>"
      ],
      "text/plain": [
       "                               SplyCur  IssContNtv  CapMrktCurUSD  \\\n",
       "2021-01-15T00:00:00.000Z  1.860139e+07      968.75   6.828629e+11   \n",
       "2021-01-16T00:00:00.000Z  1.860231e+07      918.75   6.729806e+11   \n",
       "2021-01-17T00:00:00.000Z  1.860314e+07      831.25   6.710141e+11   \n",
       "2021-01-18T00:00:00.000Z  1.860405e+07      906.25   6.808020e+11   \n",
       "2021-01-19T00:00:00.000Z  1.860498e+07      931.25   6.744332e+11   \n",
       "2021-01-20T00:00:00.000Z  1.860586e+07      881.25   6.607960e+11   \n",
       "2021-01-21T00:00:00.000Z  1.860667e+07      806.25   5.772337e+11   \n",
       "2021-01-22T00:00:00.000Z  1.860755e+07      881.25   6.137966e+11   \n",
       "2021-01-23T00:00:00.000Z  1.860852e+07      975.00   5.961478e+11   \n",
       "2021-01-24T00:00:00.000Z  1.860939e+07      868.75   5.995221e+11   \n",
       "\n",
       "                              PriceUSD      DiffMean  \n",
       "2021-01-15T00:00:00.000Z  36710.317425  2.060742e+13  \n",
       "2021-01-16T00:00:00.000Z  36177.261097  2.060742e+13  \n",
       "2021-01-17T00:00:00.000Z  36069.939467  2.060742e+13  \n",
       "2021-01-18T00:00:00.000Z  36594.296402  2.060742e+13  \n",
       "2021-01-19T00:00:00.000Z  36250.146189  2.060742e+13  \n",
       "2021-01-20T00:00:00.000Z  35515.480013  2.060742e+13  \n",
       "2021-01-21T00:00:00.000Z  31022.951028  2.060742e+13  \n",
       "2021-01-22T00:00:00.000Z  32986.435757  2.060742e+13  \n",
       "2021-01-23T00:00:00.000Z  32036.282272  2.074318e+13  \n",
       "2021-01-24T00:00:00.000Z  32216.104290  2.082353e+13  "
      ]
     },
     "execution_count": 251,
     "metadata": {},
     "output_type": "execute_result"
    }
   ],
   "source": [
    "##CoinMetrics API data\n",
    "# Initialize a reference object, in this case `cm` for the Community API\n",
    "cm = coinmetrics.Community()\n",
    "\n",
    "\n",
    "# List all available metrics for BTC.\n",
    "asset = \"btc\"\n",
    "available_data_types = cm.get_available_data_types_for_asset(asset)\n",
    "#print(\"available data types:\\n\", available_data_types)\n",
    "\n",
    "# Fetch the data\n",
    "metrics = \"SplyCur,IssContNtv,CapMrktCurUSD,PriceUSD,DiffMean\"\n",
    "begin_timestamp = \"2010-11-06\"  # The `datetime` type is also accepted\n",
    "end_timestamp = \"2021-01-24\"  # The `datetime` type is also accepted\n",
    "asset_data = cm.get_asset_data_for_time_range(asset, metrics, begin_timestamp, end_timestamp)\n",
    "\n",
    "CM_raw_data = coinmetrics.cm_to_pandas(asset_data)\n",
    "pathname = \"CM_raw_data.csv\"\n",
    "coinmetrics.csv(CM_raw_data, pathname)\n",
    "CM_raw_data.tail(10)"
   ]
  },
  {
   "cell_type": "code",
   "execution_count": 253,
   "metadata": {},
   "outputs": [
    {
     "data": {
      "text/html": [
       "<div>\n",
       "<style scoped>\n",
       "    .dataframe tbody tr th:only-of-type {\n",
       "        vertical-align: middle;\n",
       "    }\n",
       "\n",
       "    .dataframe tbody tr th {\n",
       "        vertical-align: top;\n",
       "    }\n",
       "\n",
       "    .dataframe thead th {\n",
       "        text-align: right;\n",
       "    }\n",
       "</style>\n",
       "<table border=\"1\" class=\"dataframe\">\n",
       "  <thead>\n",
       "    <tr style=\"text-align: right;\">\n",
       "      <th></th>\n",
       "      <th>Unnamed: 0</th>\n",
       "      <th>tsupply</th>\n",
       "      <th>lnMC</th>\n",
       "      <th>lndiff</th>\n",
       "      <th>issuance</th>\n",
       "      <th>issuance_avg</th>\n",
       "      <th>fwd_issuance</th>\n",
       "      <th>s2f</th>\n",
       "      <th>lns2f</th>\n",
       "      <th>trend</th>\n",
       "    </tr>\n",
       "    <tr>\n",
       "      <th>date</th>\n",
       "      <th></th>\n",
       "      <th></th>\n",
       "      <th></th>\n",
       "      <th></th>\n",
       "      <th></th>\n",
       "      <th></th>\n",
       "      <th></th>\n",
       "      <th></th>\n",
       "      <th></th>\n",
       "      <th></th>\n",
       "    </tr>\n",
       "  </thead>\n",
       "  <tbody>\n",
       "    <tr>\n",
       "      <th>2020-11-22</th>\n",
       "      <td>3666.0</td>\n",
       "      <td>1.854824e+07</td>\n",
       "      <td>26.532576</td>\n",
       "      <td>30.494362</td>\n",
       "      <td>1012.500000</td>\n",
       "      <td>1012.500000</td>\n",
       "      <td>369562.500000</td>\n",
       "      <td>50.198113</td>\n",
       "      <td>3.915977</td>\n",
       "      <td>24.285714</td>\n",
       "    </tr>\n",
       "    <tr>\n",
       "      <th>2020-11-29</th>\n",
       "      <td>3673.0</td>\n",
       "      <td>1.855504e+07</td>\n",
       "      <td>26.536924</td>\n",
       "      <td>30.503636</td>\n",
       "      <td>933.928571</td>\n",
       "      <td>933.928571</td>\n",
       "      <td>340883.928571</td>\n",
       "      <td>54.440459</td>\n",
       "      <td>3.997108</td>\n",
       "      <td>25.571429</td>\n",
       "    </tr>\n",
       "    <tr>\n",
       "      <th>2020-12-06</th>\n",
       "      <td>3680.0</td>\n",
       "      <td>1.856131e+07</td>\n",
       "      <td>26.598930</td>\n",
       "      <td>30.583697</td>\n",
       "      <td>872.321429</td>\n",
       "      <td>872.321429</td>\n",
       "      <td>318397.321429</td>\n",
       "      <td>58.304460</td>\n",
       "      <td>4.065679</td>\n",
       "      <td>21.571429</td>\n",
       "    </tr>\n",
       "    <tr>\n",
       "      <th>2020-12-13</th>\n",
       "      <td>3687.0</td>\n",
       "      <td>1.856752e+07</td>\n",
       "      <td>26.569325</td>\n",
       "      <td>30.583488</td>\n",
       "      <td>883.035714</td>\n",
       "      <td>883.035714</td>\n",
       "      <td>322308.035714</td>\n",
       "      <td>57.616203</td>\n",
       "      <td>4.053804</td>\n",
       "      <td>17.142857</td>\n",
       "    </tr>\n",
       "    <tr>\n",
       "      <th>2020-12-20</th>\n",
       "      <td>3694.0</td>\n",
       "      <td>1.857376e+07</td>\n",
       "      <td>26.728241</td>\n",
       "      <td>30.557948</td>\n",
       "      <td>913.392857</td>\n",
       "      <td>913.392857</td>\n",
       "      <td>333388.392857</td>\n",
       "      <td>55.720473</td>\n",
       "      <td>4.020348</td>\n",
       "      <td>30.000000</td>\n",
       "    </tr>\n",
       "    <tr>\n",
       "      <th>2020-12-27</th>\n",
       "      <td>3701.0</td>\n",
       "      <td>1.858008e+07</td>\n",
       "      <td>26.841300</td>\n",
       "      <td>30.557934</td>\n",
       "      <td>882.142857</td>\n",
       "      <td>882.142857</td>\n",
       "      <td>321982.142857</td>\n",
       "      <td>57.713554</td>\n",
       "      <td>4.055492</td>\n",
       "      <td>32.000000</td>\n",
       "    </tr>\n",
       "    <tr>\n",
       "      <th>2021-01-03</th>\n",
       "      <td>3708.0</td>\n",
       "      <td>1.858672e+07</td>\n",
       "      <td>27.029046</td>\n",
       "      <td>30.554161</td>\n",
       "      <td>989.285714</td>\n",
       "      <td>989.285714</td>\n",
       "      <td>361089.285714</td>\n",
       "      <td>51.482167</td>\n",
       "      <td>3.941235</td>\n",
       "      <td>47.571429</td>\n",
       "    </tr>\n",
       "    <tr>\n",
       "      <th>2021-01-10</th>\n",
       "      <td>3715.0</td>\n",
       "      <td>1.859376e+07</td>\n",
       "      <td>27.261661</td>\n",
       "      <td>30.575099</td>\n",
       "      <td>1000.892857</td>\n",
       "      <td>1000.892857</td>\n",
       "      <td>365325.892857</td>\n",
       "      <td>50.904317</td>\n",
       "      <td>3.929948</td>\n",
       "      <td>69.285714</td>\n",
       "    </tr>\n",
       "    <tr>\n",
       "      <th>2021-01-17</th>\n",
       "      <td>3722.0</td>\n",
       "      <td>1.860042e+07</td>\n",
       "      <td>27.238088</td>\n",
       "      <td>30.656672</td>\n",
       "      <td>925.000000</td>\n",
       "      <td>925.000000</td>\n",
       "      <td>337625.000000</td>\n",
       "      <td>55.100008</td>\n",
       "      <td>4.009150</td>\n",
       "      <td>64.714286</td>\n",
       "    </tr>\n",
       "    <tr>\n",
       "      <th>2021-01-24</th>\n",
       "      <td>3729.0</td>\n",
       "      <td>1.860672e+07</td>\n",
       "      <td>27.165426</td>\n",
       "      <td>30.659101</td>\n",
       "      <td>892.857143</td>\n",
       "      <td>892.857143</td>\n",
       "      <td>325892.857143</td>\n",
       "      <td>57.102786</td>\n",
       "      <td>4.044853</td>\n",
       "      <td>43.142857</td>\n",
       "    </tr>\n",
       "  </tbody>\n",
       "</table>\n",
       "</div>"
      ],
      "text/plain": [
       "            Unnamed: 0       tsupply       lnMC     lndiff     issuance  \\\n",
       "date                                                                      \n",
       "2020-11-22      3666.0  1.854824e+07  26.532576  30.494362  1012.500000   \n",
       "2020-11-29      3673.0  1.855504e+07  26.536924  30.503636   933.928571   \n",
       "2020-12-06      3680.0  1.856131e+07  26.598930  30.583697   872.321429   \n",
       "2020-12-13      3687.0  1.856752e+07  26.569325  30.583488   883.035714   \n",
       "2020-12-20      3694.0  1.857376e+07  26.728241  30.557948   913.392857   \n",
       "2020-12-27      3701.0  1.858008e+07  26.841300  30.557934   882.142857   \n",
       "2021-01-03      3708.0  1.858672e+07  27.029046  30.554161   989.285714   \n",
       "2021-01-10      3715.0  1.859376e+07  27.261661  30.575099  1000.892857   \n",
       "2021-01-17      3722.0  1.860042e+07  27.238088  30.656672   925.000000   \n",
       "2021-01-24      3729.0  1.860672e+07  27.165426  30.659101   892.857143   \n",
       "\n",
       "            issuance_avg   fwd_issuance        s2f     lns2f      trend  \n",
       "date                                                                     \n",
       "2020-11-22   1012.500000  369562.500000  50.198113  3.915977  24.285714  \n",
       "2020-11-29    933.928571  340883.928571  54.440459  3.997108  25.571429  \n",
       "2020-12-06    872.321429  318397.321429  58.304460  4.065679  21.571429  \n",
       "2020-12-13    883.035714  322308.035714  57.616203  4.053804  17.142857  \n",
       "2020-12-20    913.392857  333388.392857  55.720473  4.020348  30.000000  \n",
       "2020-12-27    882.142857  321982.142857  57.713554  4.055492  32.000000  \n",
       "2021-01-03    989.285714  361089.285714  51.482167  3.941235  47.571429  \n",
       "2021-01-10   1000.892857  365325.892857  50.904317  3.929948  69.285714  \n",
       "2021-01-17    925.000000  337625.000000  55.100008  4.009150  64.714286  \n",
       "2021-01-24    892.857143  325892.857143  57.102786  4.044853  43.142857  "
      ]
     },
     "execution_count": 253,
     "metadata": {},
     "output_type": "execute_result"
    }
   ],
   "source": [
    "mydates = pd.date_range(begin_timestamp, end_timestamp).tolist()\n",
    "CoinMetrics = pd.DataFrame()\n",
    "CoinMetrics = pd.read_csv(\"CM_raw_data.csv\")\n",
    "Google = pd.read_csv(\"h4.csv\" , index_col='date',parse_dates=['date'])\n",
    "\n",
    "#uses estimate of inflation value by taking the actualy daily issuance multiplied by 365\n",
    "\n",
    "#create variables\n",
    "SplyCur = CoinMetrics[['SplyCur']]\n",
    "IssContNtv = CoinMetrics[['IssContNtv']]\n",
    "#S2F = np.divide(SplyCur,fwd_issuance)\n",
    "MktCap = CoinMetrics[['CapMrktCurUSD']]\n",
    "DiffMean = CoinMetrics[['DiffMean']]\n",
    "lnMC = np.log(MktCap)\n",
    "lnDiff = np.log(DiffMean)\n",
    "Trend = Google[['bitcoin']]\n",
    "\n",
    "#populate dataframe\n",
    "CMCleaned = pd.DataFrame()\n",
    "CMCleaned['date'] = mydates\n",
    "CMCleaned['tsupply'] = SplyCur\n",
    "CMCleaned['lnMC'] = lnMC\n",
    "CMCleaned['lndiff'] = lnDiff\n",
    "CMCleaned['issuance'] = IssContNtv\n",
    "CMCleaned.to_csv('CMCleaned.csv', encoding='utf-8')\n",
    "CMCleaned = pd.read_csv(\"CMCleaned.csv\", index_col='date',parse_dates=['date'])\n",
    "CMCleaned['issuance_avg'] = CMCleaned.issuance.resample('W').mean()\n",
    "CMCleaned['fwd_issuance'] = np.multiply(CMCleaned[['issuance_avg']],365)\n",
    "CMCleaned['s2f'] = np.divide(CMCleaned[['tsupply']],CMCleaned[['fwd_issuance']])\n",
    "CMCleaned['lns2f'] = np.log(CMCleaned[['s2f']])\n",
    "CMCleaned['trend'] = Trend\n",
    "CMCleaned = CMCleaned.resample('W').mean()\n",
    "\n",
    "CMCleaned.to_csv('CMCleaned.csv', encoding='utf-8')\n",
    "CMCleaned.tail(10)"
   ]
  },
  {
   "cell_type": "code",
   "execution_count": 254,
   "metadata": {},
   "outputs": [],
   "source": [
    "# Load all of the data\n",
    "##resample usage(last = closing, mean = average, first = open)\n",
    "##read the stata csv with proper S2F variable selection and index\n",
    "\n",
    "\n",
    "S2F = pd.read_csv(\"CMCleaned.csv\", index_col='date',parse_dates=['date'])\n",
    "OOS = pd.DataFrame()\n",
    "\n",
    "\n",
    "OOS = S2F\n",
    "S2F = S2F[S2F.index > '2010-11-6']\n",
    "S2F = S2F[S2F.index <= '2020-12-27']\n",
    "S2F.fillna(method='ffill',inplace=True)\n",
    "OOS = OOS[OOS.index > '2020-12-27']\n",
    "OOS = OOS[OOS.index <= '2021-1-24']\n",
    "OOS.fillna(method='ffill',inplace=True)\n",
    "\n",
    "df = pd.DataFrame()\n",
    "df = S2F.resample('W').mean()\n",
    "df = df.drop('issuance_avg', axis=1)\n",
    "df = df.drop('issuance', axis=1)\n",
    "df = df.drop('fwd_issuance', axis=1)\n",
    "df = df.drop('s2f', axis=1)\n",
    "df.drop(df.columns[df.columns.str.contains('unnamed',case = False)],axis = 1, inplace = True)\n",
    "df.to_csv('Weekly Average Data.csv', encoding='utf-8')\n",
    "OOS.to_csv('OOS.csv', encoding='utf-8')\n",
    "\n",
    "\n",
    "# Create arrays for features (X) and target variable (y)\n",
    "y = df[['lnMC']]\n",
    "X = df[['lns2f','lndiff','trend']]\n",
    "vif = pd.DataFrame()\n",
    "#vif[\"variables\"] = X.columns\n",
    "#vif[\"VIF\"] = [variance_inflation_factor(X.values, i) for i in range(X.shape[1])]"
   ]
  },
  {
   "cell_type": "code",
   "execution_count": 255,
   "metadata": {},
   "outputs": [
    {
     "data": {
      "text/html": [
       "<div>\n",
       "<style scoped>\n",
       "    .dataframe tbody tr th:only-of-type {\n",
       "        vertical-align: middle;\n",
       "    }\n",
       "\n",
       "    .dataframe tbody tr th {\n",
       "        vertical-align: top;\n",
       "    }\n",
       "\n",
       "    .dataframe thead th {\n",
       "        text-align: right;\n",
       "    }\n",
       "</style>\n",
       "<table border=\"1\" class=\"dataframe\">\n",
       "  <thead>\n",
       "    <tr style=\"text-align: right;\">\n",
       "      <th></th>\n",
       "      <th>tsupply</th>\n",
       "      <th>lnMC</th>\n",
       "      <th>lndiff</th>\n",
       "      <th>lns2f</th>\n",
       "      <th>trend</th>\n",
       "    </tr>\n",
       "    <tr>\n",
       "      <th>date</th>\n",
       "      <th></th>\n",
       "      <th></th>\n",
       "      <th></th>\n",
       "      <th></th>\n",
       "      <th></th>\n",
       "    </tr>\n",
       "  </thead>\n",
       "  <tbody>\n",
       "    <tr>\n",
       "      <th>2020-10-25</th>\n",
       "      <td>1.852417e+07</td>\n",
       "      <td>26.180009</td>\n",
       "      <td>30.626620</td>\n",
       "      <td>4.106537</td>\n",
       "      <td>14.428571</td>\n",
       "    </tr>\n",
       "    <tr>\n",
       "      <th>2020-11-01</th>\n",
       "      <td>1.852933e+07</td>\n",
       "      <td>26.246938</td>\n",
       "      <td>30.626620</td>\n",
       "      <td>4.307229</td>\n",
       "      <td>14.714286</td>\n",
       "    </tr>\n",
       "    <tr>\n",
       "      <th>2020-11-08</th>\n",
       "      <td>1.853483e+07</td>\n",
       "      <td>26.333336</td>\n",
       "      <td>30.484632</td>\n",
       "      <td>4.063231</td>\n",
       "      <td>15.857143</td>\n",
       "    </tr>\n",
       "    <tr>\n",
       "      <th>2020-11-15</th>\n",
       "      <td>1.854150e+07</td>\n",
       "      <td>26.407300</td>\n",
       "      <td>30.451672</td>\n",
       "      <td>3.973688</td>\n",
       "      <td>16.142857</td>\n",
       "    </tr>\n",
       "    <tr>\n",
       "      <th>2020-11-22</th>\n",
       "      <td>1.854824e+07</td>\n",
       "      <td>26.532576</td>\n",
       "      <td>30.494362</td>\n",
       "      <td>3.915977</td>\n",
       "      <td>24.285714</td>\n",
       "    </tr>\n",
       "    <tr>\n",
       "      <th>2020-11-29</th>\n",
       "      <td>1.855504e+07</td>\n",
       "      <td>26.536924</td>\n",
       "      <td>30.503636</td>\n",
       "      <td>3.997108</td>\n",
       "      <td>25.571429</td>\n",
       "    </tr>\n",
       "    <tr>\n",
       "      <th>2020-12-06</th>\n",
       "      <td>1.856131e+07</td>\n",
       "      <td>26.598930</td>\n",
       "      <td>30.583697</td>\n",
       "      <td>4.065679</td>\n",
       "      <td>21.571429</td>\n",
       "    </tr>\n",
       "    <tr>\n",
       "      <th>2020-12-13</th>\n",
       "      <td>1.856752e+07</td>\n",
       "      <td>26.569325</td>\n",
       "      <td>30.583488</td>\n",
       "      <td>4.053804</td>\n",
       "      <td>17.142857</td>\n",
       "    </tr>\n",
       "    <tr>\n",
       "      <th>2020-12-20</th>\n",
       "      <td>1.857376e+07</td>\n",
       "      <td>26.728241</td>\n",
       "      <td>30.557948</td>\n",
       "      <td>4.020348</td>\n",
       "      <td>30.000000</td>\n",
       "    </tr>\n",
       "    <tr>\n",
       "      <th>2020-12-27</th>\n",
       "      <td>1.858008e+07</td>\n",
       "      <td>26.841300</td>\n",
       "      <td>30.557934</td>\n",
       "      <td>4.055492</td>\n",
       "      <td>32.000000</td>\n",
       "    </tr>\n",
       "  </tbody>\n",
       "</table>\n",
       "</div>"
      ],
      "text/plain": [
       "                 tsupply       lnMC     lndiff     lns2f      trend\n",
       "date                                                               \n",
       "2020-10-25  1.852417e+07  26.180009  30.626620  4.106537  14.428571\n",
       "2020-11-01  1.852933e+07  26.246938  30.626620  4.307229  14.714286\n",
       "2020-11-08  1.853483e+07  26.333336  30.484632  4.063231  15.857143\n",
       "2020-11-15  1.854150e+07  26.407300  30.451672  3.973688  16.142857\n",
       "2020-11-22  1.854824e+07  26.532576  30.494362  3.915977  24.285714\n",
       "2020-11-29  1.855504e+07  26.536924  30.503636  3.997108  25.571429\n",
       "2020-12-06  1.856131e+07  26.598930  30.583697  4.065679  21.571429\n",
       "2020-12-13  1.856752e+07  26.569325  30.583488  4.053804  17.142857\n",
       "2020-12-20  1.857376e+07  26.728241  30.557948  4.020348  30.000000\n",
       "2020-12-27  1.858008e+07  26.841300  30.557934  4.055492  32.000000"
      ]
     },
     "execution_count": 255,
     "metadata": {},
     "output_type": "execute_result"
    }
   ],
   "source": [
    "# Show the first 5 observations\n",
    "df.tail(10)\n",
    "#OOS.head(10)\n",
    "#stata.tail(5)"
   ]
  },
  {
   "cell_type": "markdown",
   "metadata": {},
   "source": [
    "# Linear Regression"
   ]
  },
  {
   "cell_type": "code",
   "execution_count": 256,
   "metadata": {},
   "outputs": [
    {
     "data": {
      "text/plain": [
       "array([[1.3797276 , 0.29300673, 0.03739418]])"
      ]
     },
     "execution_count": 256,
     "metadata": {},
     "output_type": "execute_result"
    }
   ],
   "source": [
    "# Create training and test sets with 0.3 test size\n",
    "X_train, X_test, y_train, y_test = train_test_split(X, y, test_size = 0.3)\n",
    "\n",
    "# Create linear regression object call ols\n",
    "ols = LinearRegression()\n",
    "\n",
    "# Train the model using the training sets\n",
    "ols.fit(X_train, y_train)\n",
    "\n",
    "# Report the coefficient \n",
    "ols.coef_\n",
    "\n",
    "#X_test.head(5)"
   ]
  },
  {
   "cell_type": "markdown",
   "metadata": {},
   "source": [
    "## Get the 5 fold CV score"
   ]
  },
  {
   "cell_type": "code",
   "execution_count": 257,
   "metadata": {},
   "outputs": [
    {
     "name": "stdout",
     "output_type": "stream",
     "text": [
      "Cross-validated OLS scores: [0.37308614 0.30150203 0.3706947  0.26540397 0.31488389]\n"
     ]
    }
   ],
   "source": [
    "#ols\n",
    "ols_scores = cross_val_score(ols, X_train, y_train, cv = 5, scoring = 'neg_mean_squared_error')\n",
    "print(\"Cross-validated OLS scores:\", (-1)*ols_scores)"
   ]
  },
  {
   "cell_type": "markdown",
   "metadata": {},
   "source": [
    "## Predict on the Test data"
   ]
  },
  {
   "cell_type": "code",
   "execution_count": 258,
   "metadata": {},
   "outputs": [
    {
     "name": "stdout",
     "output_type": "stream",
     "text": [
      "R^2: 0.9664584703932495\n",
      "Mean Squared Error: 0.3325488048170725\n"
     ]
    },
    {
     "data": {
      "text/html": [
       "<div>\n",
       "<style scoped>\n",
       "    .dataframe tbody tr th:only-of-type {\n",
       "        vertical-align: middle;\n",
       "    }\n",
       "\n",
       "    .dataframe tbody tr th {\n",
       "        vertical-align: top;\n",
       "    }\n",
       "\n",
       "    .dataframe thead th {\n",
       "        text-align: right;\n",
       "    }\n",
       "</style>\n",
       "<table border=\"1\" class=\"dataframe\">\n",
       "  <thead>\n",
       "    <tr style=\"text-align: right;\">\n",
       "      <th></th>\n",
       "    </tr>\n",
       "  </thead>\n",
       "  <tbody>\n",
       "  </tbody>\n",
       "</table>\n",
       "</div>"
      ],
      "text/plain": [
       "Empty DataFrame\n",
       "Columns: []\n",
       "Index: []"
      ]
     },
     "execution_count": 258,
     "metadata": {},
     "output_type": "execute_result"
    }
   ],
   "source": [
    "# Get the predicted y_pred using the test data\n",
    "y_pred = ols.predict(X_test)\n",
    "# Compute and print the R^2 and RMSE\n",
    "print(\"R^2: {}\".format(ols.score(X_test, y_test)))\n",
    "mse = mean_squared_error(y_test, y_pred)\n",
    "print(\"Mean Squared Error: {}\".format(mse))\n",
    "vif.head()"
   ]
  },
  {
   "cell_type": "markdown",
   "metadata": {},
   "source": [
    "## Construct the Predictor Space"
   ]
  },
  {
   "cell_type": "code",
   "execution_count": 259,
   "metadata": {},
   "outputs": [],
   "source": [
    "#xmin = int(X_test.min())\n",
    "#xmax = int(X_test.max())\n",
    "\n",
    "xmin1 = X_test.lns2f.min()\n",
    "xmax1 = X_test.lns2f.max()\n",
    "\n",
    "#print(xmin1)\n",
    "\n",
    "xmin2 = X_test.lndiff.min()\n",
    "xmax2 = X_test.lndiff.max()\n",
    "\n",
    "xmin3 = int(X_test.trend.min())\n",
    "xmax3 = int(X_test.trend.max())\n",
    "\n",
    "\n",
    "#print(xmin3)\n",
    "\n",
    "predictor_space1 = pd.DataFrame(np.arange(xmin1,xmax1,.05))\n",
    "predictor_space2 = pd.DataFrame(np.arange(xmin2,xmax2,.05))\n",
    "predictor_space3 = pd.DataFrame(np.arange(xmin3,xmax3,.05))\n",
    "\n",
    "\n",
    "PS2 = pd.DataFrame(predictor_space1, columns = ['lns2f', 'lndiff','trend'])\n",
    "PS2['lns2f'] = predictor_space1\n",
    "PS2['lndiff'] = predictor_space2\n",
    "PS2['trend'] = predictor_space3\n",
    "\n",
    "\n",
    "\n",
    "#plt.plot(PS2, ols.predict(PS2), color='blue', linewidth=3)\n",
    "#plt.plot(predictor_space1, ols.predict(PS2), color='blue', linewidth=3)\n",
    "# Scatter plot the actual test data\n",
    "#plt.scatter(X_test.iloc[ : ,[1]], y_test,  color='black')"
   ]
  },
  {
   "cell_type": "markdown",
   "metadata": {},
   "source": []
  },
  {
   "cell_type": "markdown",
   "metadata": {},
   "source": [
    "# Polynomial Regression"
   ]
  },
  {
   "cell_type": "code",
   "execution_count": 260,
   "metadata": {},
   "outputs": [
    {
     "name": "stdout",
     "output_type": "stream",
     "text": [
      "Dimensions of X after reshaping: (530, 20)\n"
     ]
    },
    {
     "data": {
      "text/plain": [
       "array([[ 0.00000000e+00, -1.04699669e+01,  4.23218052e+00,\n",
       "        -1.61787988e-01, -3.81726344e-01,  1.36857562e+00,\n",
       "        -4.69581644e-03, -2.75762452e-01,  2.77104078e-02,\n",
       "        -1.90176934e-03, -1.15733712e+00,  3.89443547e-01,\n",
       "         1.85085053e-02, -7.52169539e-02, -1.17788728e-03,\n",
       "        -5.24610874e-04,  7.15142222e-03, -7.36976115e-04,\n",
       "         7.74112741e-05,  6.61067616e-06]])"
      ]
     },
     "execution_count": 260,
     "metadata": {},
     "output_type": "execute_result"
    }
   ],
   "source": [
    "# Reload the CSV file into a DataFrame: df\n",
    "df = pd.read_csv(\"Weekly Average Data.csv\")\n",
    "\n",
    "# Create arrays for features (Lighted) and target variable (Temp)\n",
    "yp = df[['lnMC']]\n",
    "Xp = df[['lns2f','lndiff','trend']]\n",
    "\n",
    "\n",
    "# Add in 3-degree polynomial of the X variables\n",
    "poly = PolynomialFeatures(degree = 3)\n",
    "Xp = pd.DataFrame(poly.fit_transform(Xp))\n",
    "print(\"Dimensions of X after reshaping: {}\".format(Xp.shape))\n",
    "\n",
    "# Create training and test sets\n",
    "X_train, X_test, y_train, y_test = train_test_split(Xp, yp, test_size = 0.3)\n",
    "\n",
    "# Create linear regression object, ols2\n",
    "ols2 = LinearRegression()\n",
    "\n",
    "# Fit the model using the training sets \n",
    "# Train the model using the training sets\n",
    "ols2.fit(X_train, y_train)\n",
    "\n",
    "# Report the coefficients\n",
    "ols2.coef_"
   ]
  },
  {
   "cell_type": "markdown",
   "metadata": {},
   "source": [
    "## Get 5 fold score"
   ]
  },
  {
   "cell_type": "code",
   "execution_count": 261,
   "metadata": {},
   "outputs": [
    {
     "name": "stdout",
     "output_type": "stream",
     "text": [
      "Cross-validated Polynomial Regression scores: [0.14091248 0.16439978 0.17511251 0.20155607 0.2025613 ]\n"
     ]
    }
   ],
   "source": [
    "#ols2\n",
    "ols_scores2 = cross_val_score(ols, X_train, y_train, cv = 5, scoring = 'neg_mean_squared_error')\n",
    "print(\"Cross-validated Polynomial Regression scores:\", (-1)*ols_scores2)\n"
   ]
  },
  {
   "cell_type": "markdown",
   "metadata": {},
   "source": [
    "# Ridge Regression"
   ]
  },
  {
   "cell_type": "code",
   "execution_count": 262,
   "metadata": {},
   "outputs": [
    {
     "data": {
      "text/plain": [
       "array([[ 0.00000000e+00,  1.77656257e+00,  1.02706415e-01,\n",
       "         5.15861549e-02,  6.04843245e-02,  1.50473822e-02,\n",
       "         1.23434133e-02,  1.07286728e-03,  6.53783956e-04,\n",
       "        -1.81007137e-04, -4.45814983e-02, -1.05752948e-03,\n",
       "        -1.09307659e-03,  2.38637407e-04, -1.14427149e-04,\n",
       "        -5.28554153e-05,  3.98256845e-05, -2.93375046e-05,\n",
       "        -6.71599319e-07, -7.78700306e-07]])"
      ]
     },
     "execution_count": 262,
     "metadata": {},
     "output_type": "execute_result"
    }
   ],
   "source": [
    "# Create arrays for features (Lighted) and target variable (Temp)\n",
    "yr = df[['lnMC']]\n",
    "Xr = df[['lns2f','lndiff','trend']]\n",
    "\n",
    "# Add in 3-degree polynomial of the X variables\n",
    "Xr = pd.DataFrame(PolynomialFeatures(degree = 3).fit_transform(Xr))\n",
    "  \n",
    "# Create training and test sets\n",
    "X_train, X_test, y_train, y_test = train_test_split(Xr, yr, test_size = 0.25)\n",
    "\n",
    "# Create a ridge regressor object called ridge\n",
    "ridge = Ridge(normalize = True, alpha = 0.01)\n",
    "\n",
    "# Train the ridge model using the training sets (the polynomial factors are in the data)\n",
    "ridge.fit(X_train, y_train)\n",
    "\n",
    "# The coefficients\n",
    "ridge.coef_"
   ]
  },
  {
   "cell_type": "markdown",
   "metadata": {},
   "source": [
    "## Get 5 fold Score"
   ]
  },
  {
   "cell_type": "code",
   "execution_count": 263,
   "metadata": {},
   "outputs": [
    {
     "name": "stdout",
     "output_type": "stream",
     "text": [
      "Cross-validated Polynomial Regression scores: [0.24697546 0.27818076 0.26949995 0.18171273 0.26118377]\n"
     ]
    }
   ],
   "source": [
    "#ridge\n",
    "ridge_scores = cross_val_score(ridge, X_train, y_train, cv=5, scoring = 'neg_mean_squared_error')\n",
    "print(\"Cross-validated Polynomial Regression scores:\", (-1)*ridge_scores)\n"
   ]
  },
  {
   "cell_type": "markdown",
   "metadata": {},
   "source": [
    "## Predict on the Test data"
   ]
  },
  {
   "cell_type": "code",
   "execution_count": 264,
   "metadata": {},
   "outputs": [
    {
     "name": "stdout",
     "output_type": "stream",
     "text": [
      "R^2: 0.9735899522063266\n",
      "Mean Squared Error: 0.24676136089872744\n"
     ]
    }
   ],
   "source": [
    "# Predict on the test data: y_pred\n",
    "y_predicted = ridge.predict(X_test)\n",
    "\n",
    "# Compute and print final R^2 and RMSE\n",
    "print(\"R^2: {}\".format(ridge.score(X_test, y_test)))\n",
    "mse = mean_squared_error(y_test, y_predicted)\n",
    "print(\"Mean Squared Error: {}\".format(mse))\n"
   ]
  },
  {
   "cell_type": "markdown",
   "metadata": {},
   "source": [
    "# Get the 5 fold CV Scores (MSE) for OLS and Ridge models in one place on full data"
   ]
  },
  {
   "cell_type": "code",
   "execution_count": 265,
   "metadata": {},
   "outputs": [
    {
     "name": "stdout",
     "output_type": "stream",
     "text": [
      "Cross-validated OLS scores: [0.75753825 1.0794847  0.65263737 0.27371675 0.31213951]\n",
      "Cross-validated Ridge scores: [0.81301317 0.95132329 0.59227833 0.28071884 0.30461086]\n"
     ]
    }
   ],
   "source": [
    "# For different scores see: https://scikit-learn.org/stable/modules/model_evaluation.html\n",
    "# for example, you could use 'r2' as well\n",
    "#ols\n",
    "ols_scores = cross_val_score(ols, X, y, cv = 5, scoring = 'neg_mean_squared_error')\n",
    "print(\"Cross-validated OLS scores:\", (-1)*ols_scores)\n",
    "\n",
    "#ols2\n",
    "#ols2_scores = cross_val_score(ols2, X, y, cv=5, scoring = 'neg_mean_squared_error')\n",
    "#print(\"Cross-validated Polynomial Regression scores:\", (-1)*ols_scores2)\n",
    "\n",
    "# ridge\n",
    "ridge_scores = cross_val_score(ridge, X, y, cv=5, scoring = 'neg_mean_squared_error')\n",
    "print(\"Cross-validated Ridge scores:\", (-1)*ridge_scores)"
   ]
  },
  {
   "cell_type": "markdown",
   "metadata": {},
   "source": []
  },
  {
   "cell_type": "markdown",
   "metadata": {},
   "source": [
    "# Hyper Tune Lambda, K-fold Grid Search, Ridge Regression, Part IV"
   ]
  },
  {
   "cell_type": "code",
   "execution_count": 266,
   "metadata": {},
   "outputs": [
    {
     "data": {
      "text/plain": [
       "Ridge(alpha=0.0001, normalize=True)"
      ]
     },
     "execution_count": 266,
     "metadata": {},
     "output_type": "execute_result"
    }
   ],
   "source": [
    "# Create training and test sets\n",
    "X_train, X_test, y_train, y_test = train_test_split(Xr, yr, test_size = 0.25)\n",
    "\n",
    "# Setup a grid of lambdas (aka alphas) called param_grid\n",
    "param_grid = {'alpha': np.linspace(0.0001, 10, num = 100)}\n",
    "\n",
    "# Create a ridge regressor object called ridge\n",
    "ridge = Ridge(normalize = True) \n",
    "\n",
    "# Setup the GridSearchCV object called grid_ridge for 20 folds using the param_grid above\n",
    "grid_ridge = GridSearchCV(ridge, param_grid, cv = 10)\n",
    "\n",
    "# Train the model using the training sets 5 folds for all lambdas!\n",
    "grid_ridge.fit(X_train, y_train)\n",
    "\n",
    "#Get the best lambda\n",
    "best = grid_ridge.best_params_\n",
    "\n",
    "# Create a final ridge regressor object called ridge_final using the best lambda from hypertuning\n",
    "ridge_final = Ridge(alpha = best['alpha'], normalize = True)\n",
    "\n",
    "# Now fit this model on the test data \n",
    "ridge_final.fit(X_test, y_test)\n",
    "\n"
   ]
  },
  {
   "cell_type": "markdown",
   "metadata": {},
   "source": [
    "## Get 10-fold score"
   ]
  },
  {
   "cell_type": "code",
   "execution_count": 267,
   "metadata": {},
   "outputs": [
    {
     "name": "stdout",
     "output_type": "stream",
     "text": [
      "Cross-validated Polynomial Regression scores: [0.17632507 0.18376181 0.24815615 0.15851589 0.13052562 0.26846229\n",
      " 0.21390529 0.19982982 0.19790496 0.17349261]\n"
     ]
    }
   ],
   "source": [
    "#ridge_final\n",
    "final_ridge_score = cross_val_score(ridge_final, X_train, y_train, cv=10, scoring = 'neg_mean_squared_error')\n",
    "print(\"Cross-validated Polynomial Regression scores:\", (-1)*final_ridge_score)\n"
   ]
  },
  {
   "cell_type": "markdown",
   "metadata": {},
   "source": [
    "## Predict on the Test data"
   ]
  },
  {
   "cell_type": "code",
   "execution_count": 268,
   "metadata": {},
   "outputs": [
    {
     "name": "stdout",
     "output_type": "stream",
     "text": [
      "Output: \n",
      "R^2: 0.9878577299625177\n",
      "Mean Squared Error: 0.11460701445352672\n",
      "Best Alpha: 0.0001\n",
      "Intercept: [10.0350029]\n"
     ]
    }
   ],
   "source": [
    "# Predict on the test data: y_pred\n",
    "y_pred = ridge_final.predict(X_test)\n",
    "\n",
    "# Compute and print R^2 and RMSE\n",
    "print(\"Output: \")\n",
    "print(\"R^2: {}\".format(ridge_final.score(X_test, y_test)))\n",
    "mse = mean_squared_error(y_test, y_pred)\n",
    "print(\"Mean Squared Error: {}\".format(mse))\n",
    "print(\"Best Alpha: \" + str(best['alpha']))\n",
    "\n",
    "#p-values\n",
    "#pval = stats.coef_pval(ridge_final, X_train, y_train)\n",
    "#pdf = pd.DataFrame(data = pval)\n",
    "#pdf.to_csv('p-values.csv', encoding='utf-8')\n",
    "\n",
    "\n",
    "\n",
    "#print(ridge_final.intercept_)\n",
    "print(\"Intercept: {}\".format(ridge_final.intercept_))\n",
    "best_alpha = best['alpha']\n",
    "\n",
    "#output beta/coefficient values to CSV for further processing\n",
    "betas = ridge_final.coef_\n",
    "betadf = pd.DataFrame(data = betas)\n",
    "betadf.to_csv('betas.csv', encoding='utf-8')\n",
    "\n",
    "# output model predictions on original dataset to csv\n",
    "#MCdf = pd.DataFrame(data = lnMCPred)\n",
    "lnMCPred = ridge_final.predict(Xr)\n",
    "MCPred = np.exp(lnMCPred)\n",
    "tsupply = df[['tsupply']]\n",
    "values = df[['lnMC']]\n",
    "residuals = values - lnMCPred\n",
    "MC = np.exp(values)\n",
    "\n",
    "OLSPred = ols.predict(X)\n",
    "OLSMC = np.exp(OLSPred)\n",
    "OLSPrice = np.divide(OLSMC,tsupply)\n",
    "\n",
    "\n",
    "final_df = pd.DataFrame()\n",
    "final_df['Date'] = df['date'].tolist()\n",
    "final_df['lnMC'] = values\n",
    "final_df['ln(Market Cap) Predictions'] = lnMCPred\n",
    "final_df['Residuals'] = residuals\n",
    "final_df['MC'] = np.exp(values)\n",
    "final_df['Price'] = np.divide(MC,tsupply)\n",
    "final_df['Ridge Price (Predicted)'] = np.divide(MCPred,tsupply)\n",
    "final_df['OLS Price (Predicted)'] = OLSPrice\n",
    "final_df.to_csv('Final_output_data.csv', encoding='utf-8')\n",
    "\n",
    "\n",
    "#Export predictor space to CSV to aid interpretation of coefficient values\n",
    "#Xp.to_csv('Polynomials.csv', encoding='utf-8')\n",
    "\n",
    "## manually caclulate betas with matrix equation\n",
    "#n, m = PS2.shape\n",
    "#I = np.identity(m)\n",
    "#w = np.dot(np.dot(np.linalg.inv(np.dot(X.T, X) + best_alpha * I), X.T), y)\n",
    "#w1 = np.dot(np.dot(np.linalg.inv(np.dot(PS2.T, PS2) + best_alpha * I), PS2.T), y_test)\n",
    "#print(\"Beta estimates: \" + str(w))\n",
    "\n",
    "\n"
   ]
  },
  {
   "cell_type": "markdown",
   "metadata": {},
   "source": [
    "## Plot model vs actual price"
   ]
  },
  {
   "cell_type": "code",
   "execution_count": 269,
   "metadata": {},
   "outputs": [
    {
     "data": {
      "text/plain": [
       "<Figure size 1440x720 with 0 Axes>"
      ]
     },
     "metadata": {},
     "output_type": "display_data"
    },
    {
     "data": {
      "image/png": "[encoded data removed]",
      "text/plain": [
       "<Figure size 432x288 with 2 Axes>"
      ]
     },
     "metadata": {
      "needs_background": "light"
     },
     "output_type": "display_data"
    }
   ],
   "source": [
    "price = final_df['Price']\n",
    "predicted = final_df['Ridge Price (Predicted)']\n",
    "residuals = price - predicted\n",
    "\n",
    "#random indicator stuff \n",
    "#RRVIdf = pd.DataFrame()\n",
    "#RRVIdf['Date'] = df['date'].tolist()\n",
    "#RRVIdf['RRVI'] = (np.divide(residuals,price))\n",
    "#RRVIdf.to_csv('RRVI.csv', encoding='utf-8')\n",
    "\n",
    "\n",
    "#matplotlib\n",
    "plt.figure(figsize=(20,10))\n",
    "ax = final_df.plot(x=\"Date\", y=\"Ridge Price (Predicted)\", legend=False, label = \"Price (Predicted)\")\n",
    "ax2 = ax.twinx()\n",
    "ax.set_yscale(\"log\")\n",
    "final_df.plot(x=\"Date\", y=\"Price\", ax=ax2, legend=False, color=\"r\", title = \"Bitcoin - Price vs Model Predictions\", label = \"Price\")\n",
    "ax.figure.legend()\n",
    "plt.yscale(\"log\")\n",
    "\n",
    "final_df.to_csv('Predictions.csv', encoding='utf-8')"
   ]
  },
  {
   "cell_type": "code",
   "execution_count": 270,
   "metadata": {
    "scrolled": true
   },
   "outputs": [
    {
     "data": {
      "text/plain": [
       "<Figure size 1440x720 with 0 Axes>"
      ]
     },
     "metadata": {},
     "output_type": "display_data"
    },
    {
     "data": {
      "image/png": "[encoded data removed]",
      "text/plain": [
       "<Figure size 432x288 with 2 Axes>"
      ]
     },
     "metadata": {
      "needs_background": "light"
     },
     "output_type": "display_data"
    }
   ],
   "source": [
    "## Out of sample prediction\n",
    "OOS_df = pd.read_csv(\"OOS.csv\")\n",
    "X_OOS = OOS_df[['lns2f','lndiff','trend']]\n",
    "# Add in 3-degree polynomial of the X variables\n",
    "X_OOS = pd.DataFrame(PolynomialFeatures(degree = 3).fit_transform(X_OOS))\n",
    "\n",
    "tsupply = OOS_df[['tsupply']]\n",
    "values = OOS_df[['lnMC']]\n",
    "OOSlnMCPred = ridge_final.predict(X_OOS)\n",
    "OOSMCPred = np.exp(OOSlnMCPred)\n",
    "values = OOS_df[['lnMC']]\n",
    "OOSRes = values - OOSlnMCPred\n",
    "MC = np.exp(values)\n",
    "\n",
    "X_OLS = OOS[['lns2f','lndiff','trend']]\n",
    "OOS_OLSPred = ols.predict(X_OLS)\n",
    "OLSMCPred = np.exp(OOS_OLSPred)\n",
    "OLSResiduals = values - OLSMCPred\n",
    "\n",
    "\n",
    "OOS_df['Date'] = OOS_df['date'].tolist()\n",
    "OOS_df['lnMC'] = OOS_df['lnMC']\n",
    "OOS_df['Market Cap'] = MC\n",
    "OOS_df['Price'] = np.divide(MC,tsupply)\n",
    "\n",
    "OOS_df['Ridge lnMC (Predicted)'] = OOSlnMCPred\n",
    "OOS_df['Ridge Market Cap (Predicted)'] = OOSMCPred\n",
    "OOS_df['Ridge Price (Predicted)'] = np.divide(OOSMCPred,tsupply)\n",
    "\n",
    "OOS_df['OLS lnMC Predictions'] = OOS_OLSPred\n",
    "OOS_df['OLS Price (Predicted)'] = np.divide(OLSMCPred,tsupply)\n",
    "OOS_df['OLS Market Cap (Predicted)'] = OLSMCPred\n",
    "\n",
    "OOS_df['Ridge Residuals'] = OOSRes\n",
    "OOS_df['OLS Residuals'] = OLSResiduals\n",
    "\n",
    "OOS_df.to_csv('Out of Sample Predictions.csv', encoding='utf-8')\n",
    "\n",
    "#matplotlib\n",
    "plt.figure(figsize=(20,10))\n",
    "ax = OOS_df.plot(x=\"Date\", y='Ridge Market Cap (Predicted)', legend=False, label = \"Price (Predicted)\")\n",
    "ax2 = ax.twinx()\n",
    "ax.set_yscale(\"log\")\n",
    "OOS_df.plot(x=\"Date\", y='Market Cap', ax=ax2, legend=False, color=\"r\", title = \"Bitcoin - Price vs Model Predictions\", label = \"Price\")\n",
    "ax.figure.legend()\n",
    "plt.yscale(\"log\")"
   ]
  },
  {
   "cell_type": "code",
   "execution_count": null,
   "metadata": {},
   "outputs": [],
   "source": []
  },
  {
   "cell_type": "code",
   "execution_count": null,
   "metadata": {},
   "outputs": [],
   "source": []
  }
 ],
 "metadata": {
  "kernelspec": {
   "display_name": "Python 3",
   "language": "python",
   "name": "python3"
  },
  "language_info": {
   "codemirror_mode": {
    "name": "ipython",
    "version": 3
   },
   "file_extension": ".py",
   "mimetype": "text/x-python",
   "name": "python",
   "nbconvert_exporter": "python",
   "pygments_lexer": "ipython3",
   "version": "3.8.5"
  }
 },
 "nbformat": 4,
 "nbformat_minor": 4
}
